{
 "cells": [
  {
   "cell_type": "code",
   "execution_count": 6,
   "id": "4959d16f",
   "metadata": {},
   "outputs": [],
   "source": [
    "from pathlib import Path\n",
    "import pandas as pd\n",
    "import numpy as np\n",
    "import os\n",
    "from os import path\n",
    "from zipfile import ZipFile\n",
    "import pydub\n",
    "from pydub import AudioSegment\n",
    "import librosa\n",
    "import soundfile as sf\n",
    "from sklearn.preprocessing import LabelEncoder\n",
    "from sklearn.model_selection import train_test_split\n",
    "from sklearn.metrics import confusion_matrix,recall_score,accuracy_score,f1_score,precision_score\n",
    "import pickle"
   ]
  },
  {
   "cell_type": "code",
   "execution_count": 7,
   "id": "efdfe22b",
   "metadata": {},
   "outputs": [],
   "source": [
    "#Setting Main Path\n",
    "MainPath = \"/home/saleh/Documents/NUCES/Sem 3/PAI/i20-0605\"\n",
    "os.chdir(MainPath)"
   ]
  },
  {
   "cell_type": "code",
   "execution_count": 8,
   "id": "a46a6692",
   "metadata": {},
   "outputs": [],
   "source": [
    "#Find te zip folder and extract\n",
    "File = os.listdir()\n",
    "chosen = \"\"\n",
    "for x in File:\n",
    "    if(x.find(\".zip\") > 0):\n",
    "        chosen = x\n",
    "        break\n",
    "\n",
    "with ZipFile(chosen, 'r') as zipObj:\n",
    "    zipObj.extractall()"
   ]
  },
  {
   "cell_type": "code",
   "execution_count": 9,
   "id": "c998b66b",
   "metadata": {},
   "outputs": [],
   "source": [
    "#Initializing Arrays\n",
    "NPListLabel = np.empty(1)\n",
    "ListMFCC = [[0]]\n",
    "ListMFCCTranspose = [[0]]\n",
    "ListChroma = [[0]]"
   ]
  },
  {
   "cell_type": "code",
   "execution_count": 10,
   "id": "611fe570",
   "metadata": {},
   "outputs": [],
   "source": [
    "#Reconvert the audios to wav format\n",
    "os.chdir(MainPath + \"/ProjectAllfiles\")\n",
    "ListRecordingFolders = sorted(os.listdir())\n",
    "for Labels in ListRecordingFolders:\n",
    "    TempPath = MainPath + \"/ProjectAllfiles/\" + Labels\n",
    "    os.chdir(TempPath)\n",
    "    for Recording in os.listdir():\n",
    "        InputFile = Recording\n",
    "        OutPutFile = InputFile.replace(\"mp3\",\"wav\").replace(\"m4a\",\"wav\").replace(\"aac\",\"wav\").replace(\"mpeg\",\"wav\")\n",
    "        sound = AudioSegment.from_file(InputFile)\n",
    "        sound.export(OutPutFile, format = \"wav\")\n",
    "    os.chdir(\"../\")"
   ]
  },
  {
   "cell_type": "code",
   "execution_count": 11,
   "id": "04bbffe4",
   "metadata": {},
   "outputs": [],
   "source": [
    "#Finding features from the audios\n",
    "os.chdir(MainPath + \"/ProjectAllfiles\")\n",
    "for Folder in sorted(os.listdir()):\n",
    "    TempPath = MainPath + \"/ProjectAllfiles\"+ \"/\" + Folder\n",
    "    os.chdir(TempPath)\n",
    "    for recordingFile in os.listdir():\n",
    "        NPListLabel = np.append(NPListLabel,Folder)\n",
    "        \n",
    "        X , SR = librosa.load(recordingFile,res_type='kaiser_fast')\n",
    "        \n",
    "        #Trimming the scilent parts of the audio from the ends\n",
    "        Trim, index = librosa.effects.trim(X, top_db = 10)\n",
    "        \n",
    "        #MFCC Features\n",
    "        MFCC = librosa.feature.mfcc(y = Trim, sr = SR)\n",
    "        ListMFCC.append(MFCC.flatten())\n",
    "        \n",
    "        #MFCC Transpose Features\n",
    "        MFCC_T = (MFCC.T)\n",
    "        ListMFCCTranspose.append(MFCC_T.flatten())\n",
    "        \n",
    "        #STFT features\n",
    "        C = np.abs(librosa.stft(Trim))\n",
    "        chroma = librosa.feature.chroma_stft(y = C.flatten(), sr = SR)\n",
    "        ListChroma.append(chroma.flatten())\n",
    "\n",
    "    os.chdir(\"../\")"
   ]
  },
  {
   "cell_type": "code",
   "execution_count": 12,
   "id": "bb3b1f42",
   "metadata": {},
   "outputs": [],
   "source": [
    "#Function to sort a list\n",
    "def sortList(ListLengths):\n",
    "    for x in range(0,len(ListLengths)):\n",
    "        for y in range(0,len(ListLengths)-1):\n",
    "            if(ListLengths[y][0] > ListLengths[y+1][0]):\n",
    "                ListLengths[y],ListLengths[y+1] = ListLengths[y+1],ListLengths[y]\n",
    "    return ListLengths"
   ]
  },
  {
   "cell_type": "code",
   "execution_count": 13,
   "id": "a181ec9a",
   "metadata": {},
   "outputs": [],
   "source": [
    "DF = pd.DataFrame()\n",
    "\n",
    "ListMFCC = ListMFCC[1:]\n",
    "ListChroma = ListChroma[1:]\n",
    "NPListLabel = NPListLabel[1:]\n",
    "ListMFCCTranspose = ListMFCCTranspose[1:]\n",
    "\n",
    "ListLengths = []\n",
    "count = -1\n",
    "for x in ListMFCC:\n",
    "    count += 1\n",
    "    ListLengths.append([len(x),count,x])\n",
    "\n",
    "ListLengths = sortList(ListLengths)\n",
    "    \n",
    "ListDeleted = []\n",
    "ListDeleted.append(ListLengths[0])\n",
    "ListDeleted.append(ListLengths[len(ListLengths)-1])\n",
    "\n",
    "ListLengths = ListLengths[1:len(ListLengths)-1]\n",
    "\n",
    "#Label encoding labels column\n",
    "le = LabelEncoder()\n",
    "NEWListLabel = le.fit_transform(NPListLabel)\n",
    "\n",
    "DF[\"Label\"] = NEWListLabel\n",
    "\n",
    "#Finding max length of MFCC features\n",
    "maxLengthMFCC = 0\n",
    "for x in ListLengths:\n",
    "    if(x[0] > maxLengthMFCC):\n",
    "        maxLengthMFCC = x[0]\n",
    "\n",
    "#Finding max length of chroma features\n",
    "maxLengthChroma = 0\n",
    "for x in ListChroma:\n",
    "    if(len(x) > maxLengthChroma):\n",
    "        maxLengthChroma = len(x)\n",
    "\n",
    "#Finding max length of Transpose of MFCC features\n",
    "maxLengthMFCCTranspose = 0\n",
    "for x in ListMFCCTranspose:\n",
    "    if(len(x) > maxLengthMFCCTranspose):\n",
    "        maxLengthMFCCTranspose = len(x)\n",
    "        \n",
    "maxLength = (max(maxLengthMFCC, maxLengthChroma, maxLengthMFCCTranspose))\n",
    "\n",
    "#Padding all three feature lists\n",
    "NewMFCCList = []\n",
    "for x in ListMFCC:\n",
    "    if(len(x) <= maxLength):\n",
    "        NewMFCCList.append(np.pad(x,(0,maxLength-len(x))))\n",
    "    else:\n",
    "        NewMFCCList.append(x)\n",
    "\n",
    "NewChromaList = []\n",
    "for x in ListChroma:\n",
    "    if(len(x) <= maxLength):\n",
    "        NewChromaList.append(np.pad(x,(0,maxLength-len(x))))\n",
    "    else:\n",
    "        NewChromaList.append(x)\n",
    "\n",
    "NewMFCCTransposeList = []\n",
    "for x in ListMFCCTranspose:\n",
    "    if(len(x) <= maxLength):\n",
    "        NewMFCCTransposeList.append(np.pad(x,(0,maxLength-len(x))))\n",
    "    else:\n",
    "        NewMFCCTransposeList.append(x)\n",
    "\n",
    "#Concatenating padded lists into 1\n",
    "New = []\n",
    "for x in range(0,len(NewMFCCList)):\n",
    "    temp = np.concatenate((NewMFCCList[x],NewChromaList[x],NewMFCCTransposeList[x]))\n",
    "    New.append(temp)\n",
    "\n",
    "#Column of Features\n",
    "DF[\"Features\"] = New \n",
    "\n",
    "#Deleting (3) rows which had outlier MFCC features \n",
    "for x in ListDeleted:\n",
    "    DF = DF.drop(x[1])"
   ]
  },
  {
   "cell_type": "code",
   "execution_count": 14,
   "id": "dad7b3f0",
   "metadata": {},
   "outputs": [
    {
     "name": "stdout",
     "output_type": "stream",
     "text": [
      "      Label                                           Features\n",
      "0         0  [-437.9129, -428.386, -421.04306, -425.20978, ...\n",
      "1         0  [-299.16992, -287.1158, -298.21167, -314.1415,...\n",
      "2         0  [-346.73273, -281.279, -248.5343, -240.8198, -...\n",
      "3         0  [-532.15173, -513.82043, -498.40793, -488.2128...\n",
      "4         0  [-325.96017, -329.19733, -336.58618, -339.5479...\n",
      "...     ...                                                ...\n",
      "5623      3  [-237.78828, -238.48456, -265.4574, -299.4738,...\n",
      "5624      3  [-360.7449, -343.01395, -341.77145, -349.5287,...\n",
      "5625      3  [-307.32532, -304.06332, -306.60562, -295.0947...\n",
      "5626      3  [-309.28964, -268.9655, -266.18445, -276.3862,...\n",
      "5627      3  [-307.11652, -308.4651, -309.37866, -291.21887...\n",
      "\n",
      "[5628 rows x 2 columns]\n"
     ]
    }
   ],
   "source": [
    "#Data Frame\n",
    "DF = DF.set_index(np.arange(len(DF)))\n",
    "print(DF)"
   ]
  },
  {
   "cell_type": "code",
   "execution_count": 15,
   "id": "d00fdcfa",
   "metadata": {},
   "outputs": [],
   "source": [
    "os.chdir(MainPath)"
   ]
  },
  {
   "cell_type": "code",
   "execution_count": 16,
   "id": "d043457a",
   "metadata": {},
   "outputs": [],
   "source": [
    "#Get training and testing data\n",
    "X_train, X_test, y_train, y_test = train_test_split(DF[\"Features\"], DF[\"Label\"], test_size = 0.2,random_state = 40)"
   ]
  },
  {
   "cell_type": "code",
   "execution_count": 17,
   "id": "4d24eb8b",
   "metadata": {},
   "outputs": [],
   "source": [
    "#Converting to lists to avoid any error while training\n",
    "x_train = list(X_train)\n",
    "x_test = list(X_test)"
   ]
  },
  {
   "cell_type": "code",
   "execution_count": 18,
   "id": "1dc845b0",
   "metadata": {},
   "outputs": [],
   "source": [
    "#Applying Standard Sclarer\n",
    "from sklearn.preprocessing import StandardScaler\n",
    "sc = StandardScaler()\n",
    "sc.fit(x_train)\n",
    "x_train_sc = sc.transform(x_train)\n",
    "x_test_sc = sc.transform(x_test)"
   ]
  },
  {
   "cell_type": "code",
   "execution_count": 19,
   "id": "9d859c9f",
   "metadata": {},
   "outputs": [],
   "source": [
    "from sklearn.neighbors import KNeighborsClassifier\n",
    "ModelKNeighbours = KNeighborsClassifier(n_neighbors = 3,metric= \"braycurtis\", p = 1 )\n",
    "ModelKNeighbours.fit(x_train_sc, y_train)\n",
    "pred = ModelKNeighbours.predict(x_test_sc)"
   ]
  },
  {
   "cell_type": "code",
   "execution_count": 20,
   "id": "b1e340bb",
   "metadata": {},
   "outputs": [
    {
     "name": "stdout",
     "output_type": "stream",
     "text": [
      "[[ 60  17   9  17]\n",
      " [ 27 551  13  37]\n",
      " [ 45  47  19   7]\n",
      " [ 35 116   9 117]]\n",
      "Accuracy : 66.34103019538188\n",
      "Recall : 66.34103019538188\n",
      "Precision : 66.34103019538188\n",
      "F1 Score : 66.34103019538188\n"
     ]
    }
   ],
   "source": [
    "print(confusion_matrix(y_test,pred))\n",
    "print(\"Accuracy :\" , accuracy_score(y_test,pred)*100)  \n",
    "print(\"Recall :\", recall_score(y_test, pred,average = 'micro')*100)\n",
    "print(\"Precision :\", precision_score(y_test, pred,average = 'micro')*100)\n",
    "print(\"F1 Score :\",f1_score(y_test, pred, average = 'micro')*100)"
   ]
  },
  {
   "cell_type": "code",
   "execution_count": 21,
   "id": "ce9cdacf",
   "metadata": {},
   "outputs": [],
   "source": [
    "FileName = 'i200605_KNN.pkl'\n",
    "pickle.dump(ModelKNeighbours, open(FileName,'wb'))"
   ]
  },
  {
   "cell_type": "code",
   "execution_count": 22,
   "id": "a9583b0c",
   "metadata": {},
   "outputs": [],
   "source": [
    "from sklearn.tree import DecisionTreeClassifier\n",
    "clf = DecisionTreeClassifier(criterion = 'entropy', splitter = \"best\")\n",
    "clf = clf.fit(x_train_sc, y_train)\n",
    "pred = clf.predict(x_test_sc)"
   ]
  },
  {
   "cell_type": "code",
   "execution_count": 23,
   "id": "e403228c",
   "metadata": {},
   "outputs": [
    {
     "name": "stdout",
     "output_type": "stream",
     "text": [
      "[[ 40  23  13  27]\n",
      " [ 19 500  45  64]\n",
      " [ 18  52  35  13]\n",
      " [ 14  54  20 189]]\n",
      "Accuracy : 67.85079928952042\n",
      "Recall : 67.85079928952042\n",
      "Precision : 67.85079928952042\n",
      "F1 Score : 67.85079928952042\n"
     ]
    }
   ],
   "source": [
    "print(confusion_matrix(y_test,pred))\n",
    "print(\"Accuracy :\" , accuracy_score(y_test,pred)*100)  \n",
    "print(\"Recall :\", recall_score(y_test, pred,average = 'micro')*100)\n",
    "print(\"Precision :\", precision_score(y_test, pred,average = 'micro')*100)\n",
    "print(\"F1 Score :\",f1_score(y_test, pred, average='micro')*100)"
   ]
  },
  {
   "cell_type": "code",
   "execution_count": 24,
   "id": "9c052075",
   "metadata": {},
   "outputs": [],
   "source": [
    "FileName = 'i200605_DecisionTree.pkl'\n",
    "pickle.dump(clf, open(FileName,'wb'))"
   ]
  },
  {
   "cell_type": "code",
   "execution_count": 25,
   "id": "e769b5fc",
   "metadata": {},
   "outputs": [],
   "source": [
    "from sklearn.neural_network import MLPClassifier\n",
    "mlp = MLPClassifier(max_iter = 500)\n",
    "mlp.fit(x_train_sc , y_train)\n",
    "pred = mlp.predict(x_test_sc)"
   ]
  },
  {
   "cell_type": "code",
   "execution_count": 26,
   "id": "cfa89275",
   "metadata": {},
   "outputs": [
    {
     "name": "stdout",
     "output_type": "stream",
     "text": [
      "[[ 72  12   8  11]\n",
      " [  4 584  13  27]\n",
      " [  4  37  68   9]\n",
      " [  2  42   1 232]]\n",
      "Accuracy : 84.90230905861456\n",
      "Recall : 76.06954361851362\n",
      "Precision : 83.25826849666346\n",
      "F1 Score : 79.07874614239837\n"
     ]
    }
   ],
   "source": [
    "print(confusion_matrix(y_test,pred))\n",
    "print(\"Accuracy :\" , accuracy_score(y_test,pred)*100)  \n",
    "print(\"Recall :\", recall_score(y_test, pred, average='macro')*100)\n",
    "print(\"Precision :\", precision_score(y_test, pred, average='macro')*100)\n",
    "print(\"F1 Score :\",f1_score(y_test, pred, average='macro')*100)"
   ]
  },
  {
   "cell_type": "code",
   "execution_count": 27,
   "id": "597d2da2",
   "metadata": {},
   "outputs": [],
   "source": [
    "FileName = 'i200605_MLP.pkl'\n",
    "pickle.dump(mlp, open(FileName,'wb'))"
   ]
  },
  {
   "cell_type": "code",
   "execution_count": 28,
   "id": "2f5095fc",
   "metadata": {},
   "outputs": [],
   "source": [
    "from sklearn.ensemble import RandomForestClassifier\n",
    "RFC = RandomForestClassifier()\n",
    "RFC.fit(x_train_sc , y_train)\n",
    "pred = RFC.predict(x_test_sc)"
   ]
  },
  {
   "cell_type": "code",
   "execution_count": 29,
   "id": "0e1a4788",
   "metadata": {},
   "outputs": [
    {
     "name": "stdout",
     "output_type": "stream",
     "text": [
      "[[ 44  47   1  11]\n",
      " [  0 621   2   5]\n",
      " [  6  90  21   1]\n",
      " [  6  91   0 180]]\n",
      "Accuracy : 76.90941385435168\n",
      "Recall : 56.09558913709709\n",
      "Precision : 82.64671581803785\n",
      "F1 Score : 61.24052854308001\n"
     ]
    }
   ],
   "source": [
    "print(confusion_matrix(y_test,pred))\n",
    "print(\"Accuracy :\" , accuracy_score(y_test,pred)*100)  \n",
    "print(\"Recall :\", recall_score(y_test, pred, average='macro')*100)\n",
    "print(\"Precision :\", precision_score(y_test, pred, average='macro')*100)\n",
    "print(\"F1 Score :\",f1_score(y_test, pred, average='macro')*100)"
   ]
  },
  {
   "cell_type": "code",
   "execution_count": 30,
   "id": "f83307c9",
   "metadata": {},
   "outputs": [],
   "source": [
    "FileName = 'i200605_RandomForestClassifier.pkl'\n",
    "pickle.dump(RFC, open(FileName,'wb'))"
   ]
  },
  {
   "cell_type": "code",
   "execution_count": 31,
   "id": "c99ffc8b",
   "metadata": {},
   "outputs": [],
   "source": [
    "from sklearn.ensemble import ExtraTreesClassifier\n",
    "ETC = ExtraTreesClassifier()\n",
    "ETC.fit(x_train_sc , y_train)\n",
    "pred = ETC.predict(x_test_sc)"
   ]
  },
  {
   "cell_type": "code",
   "execution_count": 32,
   "id": "fc5014de",
   "metadata": {},
   "outputs": [
    {
     "name": "stdout",
     "output_type": "stream",
     "text": [
      "[[ 39  60   0   4]\n",
      " [  2 616   3   7]\n",
      " [  6  97  13   2]\n",
      " [  5 146   1 125]]\n",
      "Accuracy : 70.42628774422735\n",
      "Recall : 48.024138146895325\n",
      "Precision : 77.26991953520775\n",
      "F1 Score : 52.365203202404\n"
     ]
    }
   ],
   "source": [
    "print(confusion_matrix(y_test,pred))\n",
    "print(\"Accuracy :\" , accuracy_score(y_test,pred)*100)  \n",
    "print(\"Recall :\", recall_score(y_test, pred, average='macro')*100)\n",
    "print(\"Precision :\", precision_score(y_test, pred, average='macro')*100)\n",
    "print(\"F1 Score :\",f1_score(y_test, pred, average='macro')*100)"
   ]
  },
  {
   "cell_type": "code",
   "execution_count": 33,
   "id": "f50f1ff8",
   "metadata": {},
   "outputs": [],
   "source": [
    "FileName = 'i200605_ExtraTreesClassifier.pkl'\n",
    "pickle.dump(ETC, open(FileName,'wb'))"
   ]
  },
  {
   "cell_type": "code",
   "execution_count": 34,
   "id": "231319c8",
   "metadata": {},
   "outputs": [],
   "source": [
    "from sklearn.ensemble import BaggingClassifier\n",
    "GBC = BaggingClassifier()\n",
    "GBC.fit(x_train_sc , y_train)\n",
    "pred = GBC.predict(x_test_sc)"
   ]
  },
  {
   "cell_type": "code",
   "execution_count": 35,
   "id": "ecc325a7",
   "metadata": {},
   "outputs": [
    {
     "name": "stdout",
     "output_type": "stream",
     "text": [
      "[[ 41  39   5  18]\n",
      " [  6 594   8  20]\n",
      " [  9  79  25   5]\n",
      " [ 13  66   3 195]]\n",
      "Accuracy : 75.93250444049734\n",
      "Recall : 56.49384127379711\n",
      "Precision : 69.66957177907516\n",
      "F1 Score : 59.83603404052168\n"
     ]
    }
   ],
   "source": [
    "print(confusion_matrix(y_test,pred))\n",
    "print(\"Accuracy :\" , accuracy_score(y_test,pred)*100)  \n",
    "print(\"Recall :\", recall_score(y_test, pred, average='macro')*100)\n",
    "print(\"Precision :\", precision_score(y_test, pred, average='macro')*100)\n",
    "print(\"F1 Score :\",f1_score(y_test, pred, average='macro')*100)"
   ]
  },
  {
   "cell_type": "code",
   "execution_count": 36,
   "id": "feee0ae4",
   "metadata": {},
   "outputs": [],
   "source": [
    "FileName = 'i200605_BaggingClassifier.pkl'\n",
    "pickle.dump(GBC, open(FileName,'wb'))"
   ]
  },
  {
   "cell_type": "code",
   "execution_count": 37,
   "id": "7855e984",
   "metadata": {},
   "outputs": [],
   "source": [
    "from sklearn.multiclass import OneVsRestClassifier\n",
    "from sklearn.svm import SVC\n",
    "ORC = OneVsRestClassifier(SVC(), n_jobs = 4)\n",
    "ORC.fit(x_train_sc , y_train)\n",
    "pred = ORC.predict(x_test_sc)"
   ]
  },
  {
   "cell_type": "code",
   "execution_count": 38,
   "id": "87a8d374",
   "metadata": {},
   "outputs": [
    {
     "name": "stdout",
     "output_type": "stream",
     "text": [
      "[[ 55  38   0  10]\n",
      " [  1 617   1   9]\n",
      " [  7  88  17   6]\n",
      " [  5  98   0 174]]\n",
      "Accuracy : 76.64298401420959\n",
      "Recall : 57.21728250832263\n",
      "Precision : 76.64298401420959\n",
      "F1 Score : 76.6429840142096\n"
     ]
    }
   ],
   "source": [
    "print(confusion_matrix(y_test,pred))\n",
    "print(\"Accuracy :\" , accuracy_score(y_test,pred)*100)  \n",
    "print(\"Recall :\", recall_score(y_test, pred, average='macro')*100)\n",
    "print(\"Precision :\", precision_score(y_test, pred, average='micro')*100)\n",
    "print(\"F1 Score :\",f1_score(y_test, pred, average='micro')*100)"
   ]
  },
  {
   "cell_type": "code",
   "execution_count": 39,
   "id": "8739361b",
   "metadata": {},
   "outputs": [],
   "source": [
    "FileName = 'i200605_OneVsRestClassifier.pkl'\n",
    "pickle.dump(ORC, open(FileName,'wb'))"
   ]
  },
  {
   "cell_type": "code",
   "execution_count": 40,
   "id": "2011c4de",
   "metadata": {},
   "outputs": [],
   "source": [
    "from sklearn.ensemble import GradientBoostingClassifier\n",
    "GBC = GradientBoostingClassifier(n_estimators = 15,learning_rate = .3)\n",
    "GBC.fit(x_train_sc , y_train)\n",
    "pred = GBC.predict(x_test_sc)"
   ]
  },
  {
   "cell_type": "code",
   "execution_count": 41,
   "id": "8b6b49e6",
   "metadata": {},
   "outputs": [
    {
     "name": "stdout",
     "output_type": "stream",
     "text": [
      "[[ 42  40   7  14]\n",
      " [ 10 595   6  17]\n",
      " [ 10  77  22   9]\n",
      " [  7  64   6 200]]\n",
      "Accuracy : 76.28774422735346\n",
      "Recall : 56.59203895516366\n",
      "Precision : 68.63417321701232\n",
      "F1 Score : 59.659359776642454\n"
     ]
    }
   ],
   "source": [
    "print(confusion_matrix(y_test,pred))\n",
    "print(\"Accuracy :\" , accuracy_score(y_test,pred)*100)  \n",
    "print(\"Recall :\", recall_score(y_test, pred, average='macro')*100)\n",
    "print(\"Precision :\", precision_score(y_test, pred, average='macro')*100)\n",
    "print(\"F1 Score :\",f1_score(y_test, pred, average='macro')*100)"
   ]
  },
  {
   "cell_type": "code",
   "execution_count": 42,
   "id": "a90cd97d",
   "metadata": {},
   "outputs": [],
   "source": [
    "FileName = 'i200605_GradientBoostingClassifier.pkl'\n",
    "pickle.dump(GBC, open(FileName,'wb'))"
   ]
  }
 ],
 "metadata": {
  "kernelspec": {
   "display_name": "Python 3",
   "language": "python",
   "name": "python3"
  },
  "language_info": {
   "codemirror_mode": {
    "name": "ipython",
    "version": 3
   },
   "file_extension": ".py",
   "mimetype": "text/x-python",
   "name": "python",
   "nbconvert_exporter": "python",
   "pygments_lexer": "ipython3",
   "version": "3.8.8"
  }
 },
 "nbformat": 4,
 "nbformat_minor": 5
}
